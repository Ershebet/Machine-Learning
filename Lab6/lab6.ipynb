{
 "cells": [
  {
   "cell_type": "markdown",
   "metadata": {},
   "source": [
    "# Цель лабораторной работы\n",
    "Изучить ансамбли моделей машинного обучения<cite data-cite=\"ue:lab6\"></cite>."
   ]
  },
  {
   "cell_type": "markdown",
   "metadata": {},
   "source": [
    "# Задание\n",
    "Требуется выполнить следующие действия<cite data-cite=\"ue:lab6\"></cite>:\n",
    "\n",
    "1. Выбрать набор данных (датасет) для&nbsp;решения задачи классификации или регресии.\n",
    "2. В&nbsp;случае необходимости проведите удаление или заполнение пропусков и кодирование категориальных признаков.\n",
    "3. С&nbsp;использованием метода `train_test_split` разделите выборку на&nbsp;обучающую и тестовую.\n",
    "4. Обучите две ансамблевые модели. Оцените качество модели с&nbsp;помощью одной из&nbsp;подходящих для&nbsp;задачи метрик. Сравните качество полученных моделей.\n",
    "5. Произведите для&nbsp;каждой модели подбор одного гиперпараметра. В&nbsp;зависимости от&nbsp;используемой библиотеки можно применять функцию `GridSearchCV`, использовать перебор параметров в&nbsp;цикле, или использовать другие методы.\n",
    "6. Повторите пункт&nbsp;4 для&nbsp;найденных оптимальных значения гиперпараметров. Сравните качество полученных моделей с&nbsp;качеством моделей, полученных в&nbsp;пункте&nbsp;4."
   ]
  },
  {
   "cell_type": "markdown",
   "metadata": {},
   "source": [
    "# Ход выполнения работы"
   ]
  },
  {
   "cell_type": "markdown",
   "metadata": {},
   "source": [
    "Подключим все необходимые библиотеки и настроим отображение графиков<cite data-cite=\"doc:ipython,doc:seaborn\"></cite>:"
   ]
  },
  {
   "cell_type": "code",
   "execution_count": 60,
   "metadata": {},
   "outputs": [],
   "source": [
    "from datetime import datetime\n",
    "import matplotlib.pyplot as plt\n",
    "import numpy as np\n",
    "import pandas as pd\n",
    "from sklearn.ensemble import GradientBoostingRegressor\n",
    "from sklearn.ensemble import RandomForestRegressor\n",
    "from sklearn.metrics import mean_absolute_error\n",
    "from sklearn.metrics import median_absolute_error, r2_score\n",
    "from sklearn.model_selection import GridSearchCV\n",
    "from sklearn.model_selection import ShuffleSplit\n",
    "from sklearn.model_selection import train_test_split\n",
    "from sklearn.preprocessing import StandardScaler\n",
    "\n",
    "# Enable inline plots\n",
    "%matplotlib inline\n",
    "\n",
    "# Set plots formats to save high resolution PNG\n",
    "from IPython.display import set_matplotlib_formats\n",
    "set_matplotlib_formats(\"retina\")"
   ]
  },
  {
   "cell_type": "markdown",
   "metadata": {},
   "source": [
    "Зададим ширину текстового представления данных, чтобы в&nbsp;дальнейшем текст в&nbsp;отчёте влезал на&nbsp;А4<cite data-cite=\"doc:pandas\"></cite>:"
   ]
  },
  {
   "cell_type": "markdown",
   "metadata": {},
   "source": [
    "pd.set_option(\"display.width\", 70)"
   ]
  },
  {
   "cell_type": "markdown",
   "metadata": {},
   "source": [
    "## Предварительная подготовка данных"
   ]
  },
  {
   "cell_type": "code",
   "execution_count": 62,
   "metadata": {},
   "outputs": [],
   "source": [
    "\n",
    "data = pd.read_csv(\"/Users/elizavetasukach/Desktop/MachineLearning/2019.csv\")"
   ]
  },
  {
   "cell_type": "code",
   "execution_count": 63,
   "metadata": {},
   "outputs": [
    {
     "output_type": "execute_result",
     "data": {
      "text/plain": "Overall rank                      int64\nCountry or region                object\nScore                           float64\nGDP per capita                  float64\nSocial support                  float64\nHealthy life expectancy         float64\nFreedom to make life choices    float64\nGenerosity                      float64\nPerceptions of corruption       float64\ndtype: object"
     },
     "metadata": {},
     "execution_count": 63
    }
   ],
   "source": [
    "data.dtypes"
   ]
  },
  {
   "cell_type": "code",
   "execution_count": 64,
   "metadata": {},
   "outputs": [
    {
     "output_type": "execute_result",
     "data": {
      "text/plain": "   Overall rank Country or region  Score  GDP per capita  Social support  \\\n0             1           Finland  7.769           1.340           1.587   \n1             2           Denmark  7.600           1.383           1.573   \n2             3            Norway  7.554           1.488           1.582   \n3             4           Iceland  7.494           1.380           1.624   \n4             5       Netherlands  7.488           1.396           1.522   \n\n   Healthy life expectancy  Freedom to make life choices  Generosity  \\\n0                    0.986                         0.596       0.153   \n1                    0.996                         0.592       0.252   \n2                    1.028                         0.603       0.271   \n3                    1.026                         0.591       0.354   \n4                    0.999                         0.557       0.322   \n\n   Perceptions of corruption  \n0                      0.393  \n1                      0.410  \n2                      0.341  \n3                      0.118  \n4                      0.298  ",
      "text/html": "<div>\n<style scoped>\n    .dataframe tbody tr th:only-of-type {\n        vertical-align: middle;\n    }\n\n    .dataframe tbody tr th {\n        vertical-align: top;\n    }\n\n    .dataframe thead th {\n        text-align: right;\n    }\n</style>\n<table border=\"1\" class=\"dataframe\">\n  <thead>\n    <tr style=\"text-align: right;\">\n      <th></th>\n      <th>Overall rank</th>\n      <th>Country or region</th>\n      <th>Score</th>\n      <th>GDP per capita</th>\n      <th>Social support</th>\n      <th>Healthy life expectancy</th>\n      <th>Freedom to make life choices</th>\n      <th>Generosity</th>\n      <th>Perceptions of corruption</th>\n    </tr>\n  </thead>\n  <tbody>\n    <tr>\n      <td>0</td>\n      <td>1</td>\n      <td>Finland</td>\n      <td>7.769</td>\n      <td>1.340</td>\n      <td>1.587</td>\n      <td>0.986</td>\n      <td>0.596</td>\n      <td>0.153</td>\n      <td>0.393</td>\n    </tr>\n    <tr>\n      <td>1</td>\n      <td>2</td>\n      <td>Denmark</td>\n      <td>7.600</td>\n      <td>1.383</td>\n      <td>1.573</td>\n      <td>0.996</td>\n      <td>0.592</td>\n      <td>0.252</td>\n      <td>0.410</td>\n    </tr>\n    <tr>\n      <td>2</td>\n      <td>3</td>\n      <td>Norway</td>\n      <td>7.554</td>\n      <td>1.488</td>\n      <td>1.582</td>\n      <td>1.028</td>\n      <td>0.603</td>\n      <td>0.271</td>\n      <td>0.341</td>\n    </tr>\n    <tr>\n      <td>3</td>\n      <td>4</td>\n      <td>Iceland</td>\n      <td>7.494</td>\n      <td>1.380</td>\n      <td>1.624</td>\n      <td>1.026</td>\n      <td>0.591</td>\n      <td>0.354</td>\n      <td>0.118</td>\n    </tr>\n    <tr>\n      <td>4</td>\n      <td>5</td>\n      <td>Netherlands</td>\n      <td>7.488</td>\n      <td>1.396</td>\n      <td>1.522</td>\n      <td>0.999</td>\n      <td>0.557</td>\n      <td>0.322</td>\n      <td>0.298</td>\n    </tr>\n  </tbody>\n</table>\n</div>"
     },
     "metadata": {},
     "execution_count": 64
    }
   ],
   "source": [
    "data.head()"
   ]
  },
  {
   "cell_type": "markdown",
   "metadata": {},
   "source": [
    "Значения колонки Country or region уникальны, поэтому ее можно удалить, если заменить на цифровые значения, то значения колонки Overall rank продублируются"
   ]
  },
  {
   "cell_type": "code",
   "execution_count": 65,
   "metadata": {},
   "outputs": [],
   "source": [
    "del data['Country or region']"
   ]
  },
  {
   "cell_type": "markdown",
   "metadata": {},
   "source": [
    "Проверим пустые значения:\n"
   ]
  },
  {
   "cell_type": "code",
   "execution_count": 66,
   "metadata": {},
   "outputs": [
    {
     "output_type": "execute_result",
     "data": {
      "text/plain": "Overall rank                    0\nScore                           0\nGDP per capita                  0\nSocial support                  0\nHealthy life expectancy         0\nFreedom to make life choices    0\nGenerosity                      0\nPerceptions of corruption       0\ndtype: int64"
     },
     "metadata": {},
     "execution_count": 66
    }
   ],
   "source": [
    "data.isnull().sum()"
   ]
  },
  {
   "cell_type": "code",
   "execution_count": 67,
   "metadata": {},
   "outputs": [
    {
     "output_type": "execute_result",
     "data": {
      "text/plain": "(156, 8)"
     },
     "metadata": {},
     "execution_count": 67
    }
   ],
   "source": [
    "data.shape"
   ]
  },
  {
   "cell_type": "markdown",
   "metadata": {},
   "source": [
    "основные статистические характеристики:"
   ]
  },
  {
   "cell_type": "code",
   "execution_count": 68,
   "metadata": {},
   "outputs": [
    {
     "output_type": "execute_result",
     "data": {
      "text/plain": "       Overall rank       Score  GDP per capita  Social support  \\\ncount    156.000000  156.000000      156.000000      156.000000   \nmean      78.500000    5.407096        0.905147        1.208814   \nstd       45.177428    1.113120        0.398389        0.299191   \nmin        1.000000    2.853000        0.000000        0.000000   \n25%       39.750000    4.544500        0.602750        1.055750   \n50%       78.500000    5.379500        0.960000        1.271500   \n75%      117.250000    6.184500        1.232500        1.452500   \nmax      156.000000    7.769000        1.684000        1.624000   \n\n       Healthy life expectancy  Freedom to make life choices  Generosity  \\\ncount               156.000000                    156.000000  156.000000   \nmean                  0.725244                      0.392571    0.184846   \nstd                   0.242124                      0.143289    0.095254   \nmin                   0.000000                      0.000000    0.000000   \n25%                   0.547750                      0.308000    0.108750   \n50%                   0.789000                      0.417000    0.177500   \n75%                   0.881750                      0.507250    0.248250   \nmax                   1.141000                      0.631000    0.566000   \n\n       Perceptions of corruption  \ncount                 156.000000  \nmean                    0.110603  \nstd                     0.094538  \nmin                     0.000000  \n25%                     0.047000  \n50%                     0.085500  \n75%                     0.141250  \nmax                     0.453000  ",
      "text/html": "<div>\n<style scoped>\n    .dataframe tbody tr th:only-of-type {\n        vertical-align: middle;\n    }\n\n    .dataframe tbody tr th {\n        vertical-align: top;\n    }\n\n    .dataframe thead th {\n        text-align: right;\n    }\n</style>\n<table border=\"1\" class=\"dataframe\">\n  <thead>\n    <tr style=\"text-align: right;\">\n      <th></th>\n      <th>Overall rank</th>\n      <th>Score</th>\n      <th>GDP per capita</th>\n      <th>Social support</th>\n      <th>Healthy life expectancy</th>\n      <th>Freedom to make life choices</th>\n      <th>Generosity</th>\n      <th>Perceptions of corruption</th>\n    </tr>\n  </thead>\n  <tbody>\n    <tr>\n      <td>count</td>\n      <td>156.000000</td>\n      <td>156.000000</td>\n      <td>156.000000</td>\n      <td>156.000000</td>\n      <td>156.000000</td>\n      <td>156.000000</td>\n      <td>156.000000</td>\n      <td>156.000000</td>\n    </tr>\n    <tr>\n      <td>mean</td>\n      <td>78.500000</td>\n      <td>5.407096</td>\n      <td>0.905147</td>\n      <td>1.208814</td>\n      <td>0.725244</td>\n      <td>0.392571</td>\n      <td>0.184846</td>\n      <td>0.110603</td>\n    </tr>\n    <tr>\n      <td>std</td>\n      <td>45.177428</td>\n      <td>1.113120</td>\n      <td>0.398389</td>\n      <td>0.299191</td>\n      <td>0.242124</td>\n      <td>0.143289</td>\n      <td>0.095254</td>\n      <td>0.094538</td>\n    </tr>\n    <tr>\n      <td>min</td>\n      <td>1.000000</td>\n      <td>2.853000</td>\n      <td>0.000000</td>\n      <td>0.000000</td>\n      <td>0.000000</td>\n      <td>0.000000</td>\n      <td>0.000000</td>\n      <td>0.000000</td>\n    </tr>\n    <tr>\n      <td>25%</td>\n      <td>39.750000</td>\n      <td>4.544500</td>\n      <td>0.602750</td>\n      <td>1.055750</td>\n      <td>0.547750</td>\n      <td>0.308000</td>\n      <td>0.108750</td>\n      <td>0.047000</td>\n    </tr>\n    <tr>\n      <td>50%</td>\n      <td>78.500000</td>\n      <td>5.379500</td>\n      <td>0.960000</td>\n      <td>1.271500</td>\n      <td>0.789000</td>\n      <td>0.417000</td>\n      <td>0.177500</td>\n      <td>0.085500</td>\n    </tr>\n    <tr>\n      <td>75%</td>\n      <td>117.250000</td>\n      <td>6.184500</td>\n      <td>1.232500</td>\n      <td>1.452500</td>\n      <td>0.881750</td>\n      <td>0.507250</td>\n      <td>0.248250</td>\n      <td>0.141250</td>\n    </tr>\n    <tr>\n      <td>max</td>\n      <td>156.000000</td>\n      <td>7.769000</td>\n      <td>1.684000</td>\n      <td>1.624000</td>\n      <td>1.141000</td>\n      <td>0.631000</td>\n      <td>0.566000</td>\n      <td>0.453000</td>\n    </tr>\n  </tbody>\n</table>\n</div>"
     },
     "metadata": {},
     "execution_count": 68
    }
   ],
   "source": [
    "data.describe()"
   ]
  },
  {
   "cell_type": "markdown",
   "metadata": {},
   "source": [
    "## Разделение данных\n",
    "Разделим данные на&nbsp;целевой столбец и признаки:"
   ]
  },
  {
   "cell_type": "code",
   "execution_count": 69,
   "metadata": {},
   "outputs": [
    {
     "output_type": "stream",
     "name": "stdout",
     "text": "Overall rank  GDP per capita  Social support  Healthy life expectancy  \\\n0             1           1.340           1.587                    0.986   \n1             2           1.383           1.573                    0.996   \n2             3           1.488           1.582                    1.028   \n3             4           1.380           1.624                    1.026   \n4             5           1.396           1.522                    0.999   \n\n   Freedom to make life choices  Generosity  Perceptions of corruption  \n0                         0.596       0.153                      0.393  \n1                         0.592       0.252                      0.410  \n2                         0.603       0.271                      0.341  \n3                         0.591       0.354                      0.118  \n4                         0.557       0.322                      0.298   \n\n0    7.769\n1    7.600\n2    7.554\n3    7.494\n4    7.488\nName: Score, dtype: float64\n"
    }
   ],
   "source": [
    "X = data.drop(\"Score\", axis=1)\n",
    "y = data[\"Score\"]\n",
    "print(X.head(), \"\\n\")\n",
    "print(y.head())"
   ]
  },
  {
   "cell_type": "code",
   "execution_count": 70,
   "metadata": {},
   "outputs": [
    {
     "output_type": "stream",
     "name": "stdout",
     "text": "(156, 7)\n(156,)\n"
    }
   ],
   "source": [
    "print(X.shape)\n",
    "print(y.shape)"
   ]
  },
  {
   "cell_type": "markdown",
   "metadata": {},
   "source": [
    "Предобработаем данные, чтобы методы работали лучше:"
   ]
  },
  {
   "cell_type": "code",
   "execution_count": 71,
   "metadata": {},
   "outputs": [
    {
     "output_type": "execute_result",
     "data": {
      "text/plain": "       Overall rank  GDP per capita  Social support  Healthy life expectancy  \\\ncount    156.000000    1.560000e+02    1.560000e+02             1.560000e+02   \nmean       0.000000    1.779204e-16   -1.195625e-16            -3.188333e-16   \nstd        1.003221    1.003221e+00    1.003221e+00             1.003221e+00   \nmin       -1.720983   -2.279334e+00   -4.053282e+00            -3.004986e+00   \n25%       -0.860492   -7.614944e-01   -5.132402e-01            -7.354299e-01   \n50%        0.000000    1.381292e-01    2.101925e-01             2.641694e-01   \n75%        0.860492    8.243362e-01    8.171048e-01             6.484713e-01   \nmax        1.720983    1.961299e+00    1.392163e+00             1.722652e+00   \n\n       Freedom to make life choices    Generosity  Perceptions of corruption  \ncount                  1.560000e+02  1.560000e+02               1.560000e+02  \nmean                  -2.391250e-16  2.005162e-16              -3.914248e-18  \nstd                    1.003221e+00  1.003221e+00               1.003221e+00  \nmin                   -2.748526e+00 -1.946801e+00              -1.173697e+00  \n25%                   -5.921083e-01 -8.014454e-01              -6.749404e-01  \n50%                    1.710395e-01 -7.736976e-02              -2.663845e-01  \n75%                    8.029119e-01  6.677699e-01               3.252258e-01  \nmax                    1.669330e+00  4.014316e+00               3.633468e+00  ",
      "text/html": "<div>\n<style scoped>\n    .dataframe tbody tr th:only-of-type {\n        vertical-align: middle;\n    }\n\n    .dataframe tbody tr th {\n        vertical-align: top;\n    }\n\n    .dataframe thead th {\n        text-align: right;\n    }\n</style>\n<table border=\"1\" class=\"dataframe\">\n  <thead>\n    <tr style=\"text-align: right;\">\n      <th></th>\n      <th>Overall rank</th>\n      <th>GDP per capita</th>\n      <th>Social support</th>\n      <th>Healthy life expectancy</th>\n      <th>Freedom to make life choices</th>\n      <th>Generosity</th>\n      <th>Perceptions of corruption</th>\n    </tr>\n  </thead>\n  <tbody>\n    <tr>\n      <td>count</td>\n      <td>156.000000</td>\n      <td>1.560000e+02</td>\n      <td>1.560000e+02</td>\n      <td>1.560000e+02</td>\n      <td>1.560000e+02</td>\n      <td>1.560000e+02</td>\n      <td>1.560000e+02</td>\n    </tr>\n    <tr>\n      <td>mean</td>\n      <td>0.000000</td>\n      <td>1.779204e-16</td>\n      <td>-1.195625e-16</td>\n      <td>-3.188333e-16</td>\n      <td>-2.391250e-16</td>\n      <td>2.005162e-16</td>\n      <td>-3.914248e-18</td>\n    </tr>\n    <tr>\n      <td>std</td>\n      <td>1.003221</td>\n      <td>1.003221e+00</td>\n      <td>1.003221e+00</td>\n      <td>1.003221e+00</td>\n      <td>1.003221e+00</td>\n      <td>1.003221e+00</td>\n      <td>1.003221e+00</td>\n    </tr>\n    <tr>\n      <td>min</td>\n      <td>-1.720983</td>\n      <td>-2.279334e+00</td>\n      <td>-4.053282e+00</td>\n      <td>-3.004986e+00</td>\n      <td>-2.748526e+00</td>\n      <td>-1.946801e+00</td>\n      <td>-1.173697e+00</td>\n    </tr>\n    <tr>\n      <td>25%</td>\n      <td>-0.860492</td>\n      <td>-7.614944e-01</td>\n      <td>-5.132402e-01</td>\n      <td>-7.354299e-01</td>\n      <td>-5.921083e-01</td>\n      <td>-8.014454e-01</td>\n      <td>-6.749404e-01</td>\n    </tr>\n    <tr>\n      <td>50%</td>\n      <td>0.000000</td>\n      <td>1.381292e-01</td>\n      <td>2.101925e-01</td>\n      <td>2.641694e-01</td>\n      <td>1.710395e-01</td>\n      <td>-7.736976e-02</td>\n      <td>-2.663845e-01</td>\n    </tr>\n    <tr>\n      <td>75%</td>\n      <td>0.860492</td>\n      <td>8.243362e-01</td>\n      <td>8.171048e-01</td>\n      <td>6.484713e-01</td>\n      <td>8.029119e-01</td>\n      <td>6.677699e-01</td>\n      <td>3.252258e-01</td>\n    </tr>\n    <tr>\n      <td>max</td>\n      <td>1.720983</td>\n      <td>1.961299e+00</td>\n      <td>1.392163e+00</td>\n      <td>1.722652e+00</td>\n      <td>1.669330e+00</td>\n      <td>4.014316e+00</td>\n      <td>3.633468e+00</td>\n    </tr>\n  </tbody>\n</table>\n</div>"
     },
     "metadata": {},
     "execution_count": 71
    }
   ],
   "source": [
    "columns = X.columns\n",
    "scaler = StandardScaler()\n",
    "X = scaler.fit_transform(X)\n",
    "pd.DataFrame(X, columns=columns).describe()"
   ]
  },
  {
   "cell_type": "markdown",
   "metadata": {},
   "source": [
    "Разделим выборку на&nbsp;тренировочную и тестовую:"
   ]
  },
  {
   "cell_type": "code",
   "execution_count": 72,
   "metadata": {},
   "outputs": [],
   "source": [
    "X_train, X_test, y_train, y_test = train_test_split(X, y,\n",
    "                            test_size=0.25, random_state=346705925)"
   ]
  },
  {
   "cell_type": "code",
   "execution_count": 73,
   "metadata": {},
   "outputs": [
    {
     "output_type": "stream",
     "name": "stdout",
     "text": "(117, 7)\n(39, 7)\n(117,)\n(39,)\n"
    }
   ],
   "source": [
    "print(X_train.shape)\n",
    "print(X_test.shape)\n",
    "print(y_train.shape)\n",
    "print(y_test.shape)"
   ]
  },
  {
   "cell_type": "markdown",
   "metadata": {},
   "source": [
    "## Обучение моделей"
   ]
  },
  {
   "cell_type": "markdown",
   "metadata": {},
   "source": [
    "Напишем функцию, которая считает метрики построенной модели:"
   ]
  },
  {
   "cell_type": "code",
   "execution_count": 74,
   "metadata": {},
   "outputs": [],
   "source": [
    "def test_model(model):\n",
    "    print(\"mean_absolute_error:\",\n",
    "          mean_absolute_error(y_test, model.predict(X_test)))\n",
    "    print(\"median_absolute_error:\",\n",
    "          median_absolute_error(y_test, model.predict(X_test)))\n",
    "    print(\"r2_score:\",\n",
    "          r2_score(y_test, model.predict(X_test)))"
   ]
  },
  {
   "cell_type": "markdown",
   "metadata": {},
   "source": [
    "### Случайный лес"
   ]
  },
  {
   "cell_type": "markdown",
   "metadata": {},
   "source": [
    "Попробуем случайный лес с&nbsp;гиперпараметром $n=100$:"
   ]
  },
  {
   "cell_type": "code",
   "execution_count": 75,
   "metadata": {},
   "outputs": [
    {
     "output_type": "execute_result",
     "data": {
      "text/plain": "RandomForestRegressor(bootstrap=True, criterion='mse', max_depth=None,\n                      max_features='auto', max_leaf_nodes=None,\n                      min_impurity_decrease=0.0, min_impurity_split=None,\n                      min_samples_leaf=1, min_samples_split=2,\n                      min_weight_fraction_leaf=0.0, n_estimators=100,\n                      n_jobs=None, oob_score=False, random_state=None,\n                      verbose=0, warm_start=False)"
     },
     "metadata": {},
     "execution_count": 75
    }
   ],
   "source": [
    "ran_100 = RandomForestRegressor(n_estimators=100)\n",
    "ran_100.fit(X_train, y_train)"
   ]
  },
  {
   "cell_type": "markdown",
   "metadata": {},
   "source": [
    "Проверим метрики построенной модели:"
   ]
  },
  {
   "cell_type": "code",
   "execution_count": 76,
   "metadata": {},
   "outputs": [
    {
     "output_type": "stream",
     "name": "stdout",
     "text": "mean_absolute_error: 0.04623307692307656\nmedian_absolute_error: 0.02186999999999717\nr2_score: 0.9941083150048853\n"
    }
   ],
   "source": [
    "test_model(ran_100)"
   ]
  },
  {
   "cell_type": "markdown",
   "metadata": {},
   "source": [
    "Видно, что данный метод даже без&nbsp;настройки гиперпараметров уже показывает очень неплохой результат."
   ]
  },
  {
   "cell_type": "markdown",
   "metadata": {},
   "source": [
    "### Градиентный бустинг"
   ]
  },
  {
   "cell_type": "markdown",
   "metadata": {},
   "source": [
    "Попробуем градиентный бустинг с&nbsp;гиперпараметром $n=100$:"
   ]
  },
  {
   "cell_type": "code",
   "execution_count": 77,
   "metadata": {},
   "outputs": [
    {
     "output_type": "execute_result",
     "data": {
      "text/plain": "GradientBoostingRegressor(alpha=0.9, criterion='friedman_mse', init=None,\n                          learning_rate=0.1, loss='ls', max_depth=3,\n                          max_features=None, max_leaf_nodes=None,\n                          min_impurity_decrease=0.0, min_impurity_split=None,\n                          min_samples_leaf=1, min_samples_split=2,\n                          min_weight_fraction_leaf=0.0, n_estimators=100,\n                          n_iter_no_change=None, presort='auto',\n                          random_state=None, subsample=1.0, tol=0.0001,\n                          validation_fraction=0.1, verbose=0, warm_start=False)"
     },
     "metadata": {},
     "execution_count": 77
    }
   ],
   "source": [
    "gr_100 = GradientBoostingRegressor(n_estimators=100)\n",
    "gr_100.fit(X_train, y_train)"
   ]
  },
  {
   "cell_type": "markdown",
   "metadata": {},
   "source": [
    "Проверим метрики построенной модели:"
   ]
  },
  {
   "cell_type": "code",
   "execution_count": 78,
   "metadata": {},
   "outputs": [
    {
     "output_type": "stream",
     "name": "stdout",
     "text": "mean_absolute_error: 0.042653014430760014\nmedian_absolute_error: 0.029796258230311068\nr2_score: 0.9962759603883631\n"
    }
   ],
   "source": [
    "test_model(gr_100)"
   ]
  },
  {
   "cell_type": "markdown",
   "metadata": {},
   "source": [
    "Внезапно градиентный бустинг оказался несколько хуже по&nbsp;сравнению со&nbsp;случайным лесом."
   ]
  },
  {
   "cell_type": "markdown",
   "metadata": {},
   "source": [
    "## Подбор гиперпараметра $n$"
   ]
  },
  {
   "cell_type": "markdown",
   "metadata": {},
   "source": [
    "### Случайный лес"
   ]
  },
  {
   "cell_type": "markdown",
   "metadata": {},
   "source": [
    "Введем список настраиваемых параметров:"
   ]
  },
  {
   "cell_type": "code",
   "execution_count": 79,
   "metadata": {},
   "outputs": [
    {
     "output_type": "execute_result",
     "data": {
      "text/plain": "[{'n_estimators': array([ 10,  20,  30,  40,  50,  60,  70,  80,  90, 100, 110, 120, 130,\n         140, 150, 160, 170, 180, 190, 200])}]"
     },
     "metadata": {},
     "execution_count": 79
    }
   ],
   "source": [
    "param_range = np.arange(10, 201, 10)\n",
    "tuned_parameters = [{'n_estimators': param_range}]\n",
    "tuned_parameters"
   ]
  },
  {
   "cell_type": "markdown",
   "metadata": {},
   "source": [
    "Запустим подбор параметра:"
   ]
  },
  {
   "cell_type": "code",
   "execution_count": 80,
   "metadata": {},
   "outputs": [
    {
     "output_type": "execute_result",
     "data": {
      "text/plain": "RandomForestRegressor(bootstrap=True, criterion='mse', max_depth=None,\n                      max_features='auto', max_leaf_nodes=None,\n                      min_impurity_decrease=0.0, min_impurity_split=None,\n                      min_samples_leaf=1, min_samples_split=2,\n                      min_weight_fraction_leaf=0.0, n_estimators=110,\n                      n_jobs=None, oob_score=False, random_state=None,\n                      verbose=0, warm_start=False)"
     },
     "metadata": {},
     "execution_count": 80
    }
   ],
   "source": [
    "gs = GridSearchCV(RandomForestRegressor(), tuned_parameters,\n",
    "                  cv=ShuffleSplit(n_splits=10), scoring=\"r2\",\n",
    "                  return_train_score=True, n_jobs=-1)\n",
    "gs.fit(X, y)\n",
    "gs.best_estimator_"
   ]
  },
  {
   "cell_type": "markdown",
   "metadata": {},
   "source": [
    "Проверим результаты при&nbsp;разных значения гиперпараметра на&nbsp;тренировочном наборе данных:"
   ]
  },
  {
   "cell_type": "code",
   "execution_count": 81,
   "metadata": {},
   "outputs": [
    {
     "output_type": "display_data",
     "data": {
      "text/plain": "<Figure size 432x288 with 1 Axes>",
      "image/png": "[encoded data removed]"
     },
     "metadata": {
      "image/png": {
       "width": 391,
       "height": 248
      },
      "needs_background": "light"
     }
    }
   ],
   "source": [
    "plt.plot(param_range, gs.cv_results_[\"mean_train_score\"]);"
   ]
  },
  {
   "cell_type": "markdown",
   "metadata": {},
   "source": [
    "В&nbsp;целом результат ожидаемый&nbsp;— чем больше обученных моделей, тем лучше."
   ]
  },
  {
   "cell_type": "markdown",
   "metadata": {},
   "source": [
    "На&nbsp;тестовом наборе данных картина похожа:"
   ]
  },
  {
   "cell_type": "code",
   "execution_count": 82,
   "metadata": {},
   "outputs": [
    {
     "output_type": "display_data",
     "data": {
      "text/plain": "<Figure size 432x288 with 1 Axes>",
      "image/png": "[encoded data removed]"
     },
     "metadata": {
      "image/png": {
       "width": 391,
       "height": 248
      },
      "needs_background": "light"
     }
    }
   ],
   "source": [
    "plt.plot(param_range, gs.cv_results_[\"mean_test_score\"]);"
   ]
  },
  {
   "cell_type": "markdown",
   "metadata": {},
   "source": [
    "Из-за случайнойсти график немного плавает, но конкретно в&nbsp;данном случае получился чётко выраженный пик с&nbsp;наилучшим результатом."
   ]
  },
  {
   "cell_type": "code",
   "execution_count": 83,
   "metadata": {},
   "outputs": [
    {
     "output_type": "stream",
     "name": "stdout",
     "text": "mean_absolute_error: 0.05150046620046609\nmedian_absolute_error: 0.025118181818174712\nr2_score: 0.9936828333286463\n"
    }
   ],
   "source": [
    "reg = gs.best_estimator_\n",
    "reg.fit(X_train, y_train)\n",
    "test_model(reg)"
   ]
  },
  {
   "cell_type": "markdown",
   "metadata": {},
   "source": [
    "### Градиентный бустинг"
   ]
  },
  {
   "cell_type": "markdown",
   "metadata": {},
   "source": [
    "Список настраиваемых параметров оставим тем же."
   ]
  },
  {
   "cell_type": "code",
   "execution_count": 84,
   "metadata": {},
   "outputs": [
    {
     "output_type": "execute_result",
     "data": {
      "text/plain": "[{'n_estimators': array([ 10,  20,  30,  40,  50,  60,  70,  80,  90, 100, 110, 120, 130,\n         140, 150, 160, 170, 180, 190, 200])}]"
     },
     "metadata": {},
     "execution_count": 84
    }
   ],
   "source": [
    "tuned_parameters"
   ]
  },
  {
   "cell_type": "markdown",
   "metadata": {},
   "source": [
    "Запустим подбор параметра:"
   ]
  },
  {
   "cell_type": "code",
   "execution_count": 85,
   "metadata": {},
   "outputs": [
    {
     "output_type": "execute_result",
     "data": {
      "text/plain": "GradientBoostingRegressor(alpha=0.9, criterion='friedman_mse', init=None,\n                          learning_rate=0.1, loss='ls', max_depth=3,\n                          max_features=None, max_leaf_nodes=None,\n                          min_impurity_decrease=0.0, min_impurity_split=None,\n                          min_samples_leaf=1, min_samples_split=2,\n                          min_weight_fraction_leaf=0.0, n_estimators=50,\n                          n_iter_no_change=None, presort='auto',\n                          random_state=None, subsample=1.0, tol=0.0001,\n                          validation_fraction=0.1, verbose=0, warm_start=False)"
     },
     "metadata": {},
     "execution_count": 85
    }
   ],
   "source": [
    "gs = GridSearchCV(GradientBoostingRegressor(), tuned_parameters,\n",
    "                  cv=ShuffleSplit(n_splits=10), scoring=\"r2\",\n",
    "                  return_train_score=True, n_jobs=-1)\n",
    "gs.fit(X, y)\n",
    "gs.best_estimator_"
   ]
  },
  {
   "cell_type": "markdown",
   "metadata": {},
   "source": [
    "Проверим результаты при&nbsp;разных значения гиперпараметра на&nbsp;тренировочном наборе данных:"
   ]
  },
  {
   "cell_type": "code",
   "execution_count": 86,
   "metadata": {},
   "outputs": [
    {
     "output_type": "display_data",
     "data": {
      "text/plain": "<Figure size 432x288 with 1 Axes>",
      "image/png": "[encoded data removed]"
     },
     "metadata": {
      "image/png": {
       "width": 378,
       "height": 248
      },
      "needs_background": "light"
     }
    }
   ],
   "source": [
    "plt.plot(param_range, gs.cv_results_[\"mean_train_score\"]);"
   ]
  },
  {
   "cell_type": "markdown",
   "metadata": {},
   "source": [
    "Картина лучше, но суть та же: чем больше подмоделей, тем лучше."
   ]
  },
  {
   "cell_type": "markdown",
   "metadata": {},
   "source": [
    "На&nbsp;тестовом наборе данных картина ровно та же:"
   ]
  },
  {
   "cell_type": "code",
   "execution_count": 87,
   "metadata": {},
   "outputs": [
    {
     "output_type": "display_data",
     "data": {
      "text/plain": "<Figure size 432x288 with 1 Axes>",
      "image/png": "[encoded data removed]"
     },
     "metadata": {
      "image/png": {
       "width": 378,
       "height": 248
      },
      "needs_background": "light"
     }
    }
   ],
   "source": [
    "plt.plot(param_range, gs.cv_results_[\"mean_test_score\"]);"
   ]
  },
  {
   "cell_type": "markdown",
   "metadata": {},
   "source": [
    "Выходит, что чем больше подмоделей, тем лучше. Возможно, что можно использовать ещё больше моделей, но будем считать, что это выходит за&nbsp;рамки лабораторной работы."
   ]
  },
  {
   "cell_type": "code",
   "execution_count": 88,
   "metadata": {},
   "outputs": [
    {
     "output_type": "stream",
     "name": "stdout",
     "text": "mean_absolute_error: 0.044345179696531595\nmedian_absolute_error: 0.027791779195851518\nr2_score: 0.9957806303651098\n"
    }
   ],
   "source": [
    "reg = gs.best_estimator_\n",
    "reg.fit(X_train, y_train)\n",
    "test_model(reg)"
   ]
  },
  {
   "cell_type": "code",
   "execution_count": null,
   "metadata": {},
   "outputs": [],
   "source": []
  }
 ],
 "metadata": {
  "language_info": {
   "codemirror_mode": {
    "name": "ipython",
    "version": 3
   },
   "file_extension": ".py",
   "mimetype": "text/x-python",
   "name": "python",
   "nbconvert_exporter": "python",
   "pygments_lexer": "ipython3",
   "version": "3.7.4-final"
  },
  "orig_nbformat": 2,
  "kernelspec": {
   "name": "python3",
   "display_name": "Python 3"
  }
 },
 "nbformat": 4,
 "nbformat_minor": 2
}